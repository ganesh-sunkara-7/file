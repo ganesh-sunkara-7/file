{
 "cells": [
  {
   "cell_type": "code",
   "execution_count": null,
   "id": "751b2832-35c0-4a2e-af9b-93637147ecce",
   "metadata": {},
   "outputs": [],
   "source": [
    "• Steps to make an audiobook\n",
    "#\t1. Analyze pyttsx3, pypdf libraries\n",
    "\tPdf text to speech and save the speech\n",
    "\t\n",
    "#\t2. Gui \n",
    "\tTkinter \n",
    "\t\n",
    "#\t3. Streamlit\n",
    "\t\n",
    "\n",
    "\t• pyttsx3\n",
    "\tInstallation :   \tPip install pyttsx3\n",
    "\t\n",
    "$\t\n",
    "import pyttsx3                          \n",
    "engine= pyttsx3.init()             \n",
    "engine.say(\"hello, How are you?\")          # It  will store to read the text aloud\n",
    "engine.runAndWait()                    #It will process and play the speech until end and stops\n",
    "engine.stop()                        # to stop immediately the running speech\n",
    "engine.save_to_file(\"text\", \"file_name.mp3\")\n",
    "engine.runAndWait()\n",
    "\n",
    "\n",
    "getProperty(name)\n",
    "\n",
    "$\n",
    "print(engine.getProperty('rate')                   #prints the speech rate\n",
    "print(engine.getProperty('volume'))              # volume\n",
    "for voice in (engine.getProperty('voices'):          # prints voiceid\n",
    "\tprint(f\" 1.{voice.id},  2.{voice.name}\")\n",
    "\n",
    "setProperty(name,value)\n",
    "\n",
    "$\n",
    "engine.setProperty(\"volume\", 1.0)                                     # range     0-200\n",
    "engine.setProperty(\"rate\", 150)                                       # range      0-1.0\n",
    "engine.setProperty('voice', engine.getProperty('voices')[1].id)       #id's,      1,2\n",
    "\t\n"
   ]
  }
 ],
 "metadata": {
  "kernelspec": {
   "display_name": "Python [conda env:base] *",
   "language": "python",
   "name": "conda-base-py"
  },
  "language_info": {
   "codemirror_mode": {
    "name": "ipython",
    "version": 3
   },
   "file_extension": ".py",
   "mimetype": "text/x-python",
   "name": "python",
   "nbconvert_exporter": "python",
   "pygments_lexer": "ipython3",
   "version": "3.12.7"
  }
 },
 "nbformat": 4,
 "nbformat_minor": 5
}
