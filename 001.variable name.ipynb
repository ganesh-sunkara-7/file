{
 "cells": [
  {
   "cell_type": "code",
   "execution_count": 1,
   "id": "8fcf66db-eb56-4289-891e-c79e4da6bfc0",
   "metadata": {},
   "outputs": [
    {
     "name": "stdout",
     "output_type": "stream",
     "text": [
      "roaster\n"
     ]
    }
   ],
   "source": [
    "my_hen = 'roaster'\n",
    "print(my_hen)"
   ]
  },
  {
   "cell_type": "code",
   "execution_count": 8,
   "id": "49a8c2cb-575f-4e61-969a-b7d1cf7aedb7",
   "metadata": {
    "scrolled": true
   },
   "outputs": [
    {
     "name": "stdout",
     "output_type": "stream",
     "text": [
      "3\n"
     ]
    }
   ],
   "source": [
    "_lint = 3\n",
    "print(_lint)"
   ]
  },
  {
   "cell_type": "code",
   "execution_count": 5,
   "id": "8cd1ba5e-6414-4f6c-ac7b-2b4a6a06e5db",
   "metadata": {
    "scrolled": true
   },
   "outputs": [
    {
     "name": "stdout",
     "output_type": "stream",
     "text": [
      "2\n"
     ]
    }
   ],
   "source": [
    "str = 2\n",
    "print(str)"
   ]
  },
  {
   "cell_type": "code",
   "execution_count": null,
   "id": "404f3352-12de-4cf3-b8bb-0aaed1b9f565",
   "metadata": {},
   "outputs": [],
   "source": []
  },
  {
   "cell_type": "code",
   "execution_count": 36,
   "id": "c81dcba9-762b-402c-a690-53bc8af9d409",
   "metadata": {},
   "outputs": [
    {
     "name": "stdout",
     "output_type": "stream",
     "text": [
      "2\n"
     ]
    }
   ],
   "source": [
    "print(str)"
   ]
  },
  {
   "cell_type": "code",
   "execution_count": 38,
   "id": "f46e1ef5-bb06-4787-bf91-0391ff9bb7ca",
   "metadata": {},
   "outputs": [
    {
     "data": {
      "text/plain": [
       "2"
      ]
     },
     "execution_count": 38,
     "metadata": {},
     "output_type": "execute_result"
    }
   ],
   "source": [
    "str"
   ]
  },
  {
   "cell_type": "code",
   "execution_count": null,
   "id": "8977b0e5-9154-4784-a196-b184dd5f7a9c",
   "metadata": {},
   "outputs": [],
   "source": []
  },
  {
   "cell_type": "code",
   "execution_count": 7,
   "id": "2d311f88-0ae8-43b8-8bd6-c10a947183af",
   "metadata": {},
   "outputs": [
    {
     "name": "stdout",
     "output_type": "stream",
     "text": [
      "5\n"
     ]
    }
   ],
   "source": [
    "list = 5\n",
    "print(list)"
   ]
  },
  {
   "cell_type": "code",
   "execution_count": 9,
   "id": "fece1235-f343-4850-9c5b-8dc2828ce6f1",
   "metadata": {},
   "outputs": [
    {
     "name": "stdout",
     "output_type": "stream",
     "text": [
      "9\n"
     ]
    }
   ],
   "source": [
    "tup = 9\n",
    "print(tup)"
   ]
  },
  {
   "cell_type": "code",
   "execution_count": 8,
   "id": "1a3c779e-c0b5-464e-b489-ef06cc9a88dc",
   "metadata": {},
   "outputs": [
    {
     "name": "stdout",
     "output_type": "stream",
     "text": [
      "p\n"
     ]
    }
   ],
   "source": [
    "(hi) = 'p'\n",
    "print((hi))"
   ]
  },
  {
   "cell_type": "code",
   "execution_count": 19,
   "id": "68db2da7-18ef-4bad-b5b1-875cfd75334e",
   "metadata": {},
   "outputs": [
    {
     "ename": "SyntaxError",
     "evalue": "invalid syntax (3743108009.py, line 1)",
     "output_type": "error",
     "traceback": [
      "\u001b[1;36m  Cell \u001b[1;32mIn[19], line 1\u001b[1;36m\u001b[0m\n\u001b[1;33m    hi& = 9\u001b[0m\n\u001b[1;37m        ^\u001b[0m\n\u001b[1;31mSyntaxError\u001b[0m\u001b[1;31m:\u001b[0m invalid syntax\n"
     ]
    }
   ],
   "source": [
    "hi& = 9\n",
    "print(hi&)"
   ]
  },
  {
   "cell_type": "code",
   "execution_count": 21,
   "id": "28712f32-8d64-40a0-a98f-75972f1bc7e4",
   "metadata": {},
   "outputs": [
    {
     "ename": "SyntaxError",
     "evalue": "invalid syntax (243870006.py, line 1)",
     "output_type": "error",
     "traceback": [
      "\u001b[1;36m  Cell \u001b[1;32mIn[21], line 1\u001b[1;36m\u001b[0m\n\u001b[1;33m    `hi= 9\u001b[0m\n\u001b[1;37m    ^\u001b[0m\n\u001b[1;31mSyntaxError\u001b[0m\u001b[1;31m:\u001b[0m invalid syntax\n"
     ]
    }
   ],
   "source": [
    "`hi= 9\n",
    "print(`hi)"
   ]
  },
  {
   "cell_type": "code",
   "execution_count": 43,
   "id": "444e11e3-0e22-4719-bf15-603a5a7acda4",
   "metadata": {},
   "outputs": [
    {
     "name": "stdout",
     "output_type": "stream",
     "text": [
      "1\n"
     ]
    }
   ],
   "source": [
    "list= 1\n",
    "print(list)"
   ]
  },
  {
   "cell_type": "code",
   "execution_count": 25,
   "id": "862c1f99-185f-4cee-b472-a309d37794e4",
   "metadata": {},
   "outputs": [
    {
     "ename": "SyntaxError",
     "evalue": "invalid syntax (812090427.py, line 1)",
     "output_type": "error",
     "traceback": [
      "\u001b[1;36m  Cell \u001b[1;32mIn[25], line 1\u001b[1;36m\u001b[0m\n\u001b[1;33m    :hi=2\u001b[0m\n\u001b[1;37m    ^\u001b[0m\n\u001b[1;31mSyntaxError\u001b[0m\u001b[1;31m:\u001b[0m invalid syntax\n"
     ]
    }
   ],
   "source": [
    ":hi=2\n",
    "print(:hi)"
   ]
  },
  {
   "cell_type": "code",
   "execution_count": 27,
   "id": "a2340634-308f-480e-b1b6-d266380402ac",
   "metadata": {},
   "outputs": [
    {
     "ename": "SyntaxError",
     "evalue": "unterminated string literal (detected at line 1) (3111230173.py, line 1)",
     "output_type": "error",
     "traceback": [
      "\u001b[1;36m  Cell \u001b[1;32mIn[27], line 1\u001b[1;36m\u001b[0m\n\u001b[1;33m    'hi = 3\u001b[0m\n\u001b[1;37m    ^\u001b[0m\n\u001b[1;31mSyntaxError\u001b[0m\u001b[1;31m:\u001b[0m unterminated string literal (detected at line 1)\n"
     ]
    }
   ],
   "source": [
    "'hi = 3\n",
    "print('hi)"
   ]
  },
  {
   "cell_type": "code",
   "execution_count": 29,
   "id": "e2684b12-07b2-4d2a-8fd6-e0d59935841b",
   "metadata": {},
   "outputs": [
    {
     "ename": "SyntaxError",
     "evalue": "unterminated string literal (detected at line 1) (2749677377.py, line 1)",
     "output_type": "error",
     "traceback": [
      "\u001b[1;36m  Cell \u001b[1;32mIn[29], line 1\u001b[1;36m\u001b[0m\n\u001b[1;33m    \"hi = 3\u001b[0m\n\u001b[1;37m    ^\u001b[0m\n\u001b[1;31mSyntaxError\u001b[0m\u001b[1;31m:\u001b[0m unterminated string literal (detected at line 1)\n"
     ]
    }
   ],
   "source": [
    "\"hi = 3\n",
    "print(\"hi)"
   ]
  },
  {
   "cell_type": "code",
   "execution_count": null,
   "id": "3ad46c68-41b0-4e8c-837e-7c9c40cfdb0e",
   "metadata": {},
   "outputs": [],
   "source": [
    "'hi = 3"
   ]
  },
  {
   "cell_type": "code",
   "execution_count": 33,
   "id": "f978b8e9-329b-40cf-a3a3-68275e7f96f7",
   "metadata": {},
   "outputs": [
    {
     "ename": "SyntaxError",
     "evalue": "unterminated string literal (detected at line 1) (3639009714.py, line 1)",
     "output_type": "error",
     "traceback": [
      "\u001b[1;36m  Cell \u001b[1;32mIn[33], line 1\u001b[1;36m\u001b[0m\n\u001b[1;33m    print('hi)\u001b[0m\n\u001b[1;37m          ^\u001b[0m\n\u001b[1;31mSyntaxError\u001b[0m\u001b[1;31m:\u001b[0m unterminated string literal (detected at line 1)\n"
     ]
    }
   ],
   "source": [
    "print('hi)"
   ]
  },
  {
   "cell_type": "code",
   "execution_count": 35,
   "id": "828f1aff-8fa4-4748-a7c7-f0e5e178a4de",
   "metadata": {},
   "outputs": [
    {
     "ename": "TypeError",
     "evalue": "'int' object is not callable",
     "output_type": "error",
     "traceback": [
      "\u001b[1;31m---------------------------------------------------------------------------\u001b[0m",
      "\u001b[1;31mTypeError\u001b[0m                                 Traceback (most recent call last)",
      "Cell \u001b[1;32mIn[35], line 1\u001b[0m\n\u001b[1;32m----> 1\u001b[0m hi(\u001b[38;5;124m\"\u001b[39m\u001b[38;5;124m=\u001b[39m\u001b[38;5;124m\"\u001b[39m, \u001b[38;5;124m\"\u001b[39m\u001b[38;5;124m3\u001b[39m\u001b[38;5;124m\"\u001b[39m)\n",
      "\u001b[1;31mTypeError\u001b[0m: 'int' object is not callable"
     ]
    }
   ],
   "source": [
    ",hi = 3"
   ]
  },
  {
   "cell_type": "code",
   "execution_count": 1,
   "id": "b58aa7e9-a74e-4020-a716-81fb804dd3db",
   "metadata": {},
   "outputs": [
    {
     "ename": "SyntaxError",
     "evalue": "invalid syntax (4183205045.py, line 1)",
     "output_type": "error",
     "traceback": [
      "\u001b[1;36m  Cell \u001b[1;32mIn[1], line 1\u001b[1;36m\u001b[0m\n\u001b[1;33m    hi`= 4\u001b[0m\n\u001b[1;37m      ^\u001b[0m\n\u001b[1;31mSyntaxError\u001b[0m\u001b[1;31m:\u001b[0m invalid syntax\n"
     ]
    }
   ],
   "source": [
    "hi`= 4"
   ]
  },
  {
   "cell_type": "code",
   "execution_count": 3,
   "id": "a0ef216b-3522-49ec-b2e3-6977fd61941e",
   "metadata": {},
   "outputs": [
    {
     "ename": "NameError",
     "evalue": "name 'hi' is not defined",
     "output_type": "error",
     "traceback": [
      "\u001b[1;31m---------------------------------------------------------------------------\u001b[0m",
      "\u001b[1;31mNameError\u001b[0m                                 Traceback (most recent call last)",
      "Cell \u001b[1;32mIn[3], line 1\u001b[0m\n\u001b[1;32m----> 1\u001b[0m hi\u001b[38;5;241m<\u001b[39m\u001b[38;5;241m=\u001b[39m\u001b[38;5;241m5\u001b[39m\n",
      "\u001b[1;31mNameError\u001b[0m: name 'hi' is not defined"
     ]
    }
   ],
   "source": [
    "hi<=5"
   ]
  },
  {
   "cell_type": "code",
   "execution_count": 41,
   "id": "d2fb7f8c-86e3-44fa-b5fc-d1ad2d31a35b",
   "metadata": {},
   "outputs": [
    {
     "ename": "SyntaxError",
     "evalue": "invalid syntax (244789604.py, line 1)",
     "output_type": "error",
     "traceback": [
      "\u001b[1;36m  Cell \u001b[1;32mIn[41], line 1\u001b[1;36m\u001b[0m\n\u001b[1;33m    >hi=5\u001b[0m\n\u001b[1;37m    ^\u001b[0m\n\u001b[1;31mSyntaxError\u001b[0m\u001b[1;31m:\u001b[0m invalid syntax\n"
     ]
    }
   ],
   "source": [
    ">hi=5"
   ]
  },
  {
   "cell_type": "code",
   "execution_count": 43,
   "id": "e806554c-5297-4717-98c4-e5eb0fdc6eb1",
   "metadata": {},
   "outputs": [
    {
     "name": "stderr",
     "output_type": "stream",
     "text": [
      "<>:1: SyntaxWarning: 'int' object is not callable; perhaps you missed a comma?\n",
      "<>:1: SyntaxWarning: 'int' object is not callable; perhaps you missed a comma?\n",
      "C:\\Users\\ganes\\AppData\\Local\\Temp\\ipykernel_20416\\1488834936.py:1: SyntaxWarning: 'int' object is not callable; perhaps you missed a comma?\n",
      "  hi=5()\n"
     ]
    },
    {
     "ename": "TypeError",
     "evalue": "'int' object is not callable",
     "output_type": "error",
     "traceback": [
      "\u001b[1;31m---------------------------------------------------------------------------\u001b[0m",
      "\u001b[1;31mTypeError\u001b[0m                                 Traceback (most recent call last)",
      "Cell \u001b[1;32mIn[43], line 1\u001b[0m\n\u001b[1;32m----> 1\u001b[0m hi\u001b[38;5;241m=\u001b[39m\u001b[38;5;241m5\u001b[39m()\n",
      "\u001b[1;31mTypeError\u001b[0m: 'int' object is not callable"
     ]
    }
   ],
   "source": [
    "/hi=5"
   ]
  },
  {
   "cell_type": "code",
   "execution_count": 47,
   "id": "20ceac55-b6de-48d3-9e97-a0c7c478d9b1",
   "metadata": {},
   "outputs": [],
   "source": [
    "hi=5"
   ]
  },
  {
   "cell_type": "code",
   "execution_count": 49,
   "id": "d698e97b-4704-4c89-848e-2c74f1f2b1d5",
   "metadata": {},
   "outputs": [
    {
     "name": "stdout",
     "output_type": "stream",
     "text": [
      "Object `hi=5` not found.\n"
     ]
    }
   ],
   "source": [
    "?hi=5"
   ]
  },
  {
   "cell_type": "code",
   "execution_count": 51,
   "id": "a36cbd61-72d1-405f-a1a2-aeffe58d4eda",
   "metadata": {},
   "outputs": [
    {
     "ename": "SyntaxError",
     "evalue": "invalid syntax (1611817475.py, line 1)",
     "output_type": "error",
     "traceback": [
      "\u001b[1;36m  Cell \u001b[1;32mIn[51], line 1\u001b[1;36m\u001b[0m\n\u001b[1;33m    |hi=6\u001b[0m\n\u001b[1;37m    ^\u001b[0m\n\u001b[1;31mSyntaxError\u001b[0m\u001b[1;31m:\u001b[0m invalid syntax\n"
     ]
    }
   ],
   "source": [
    "|hi=6"
   ]
  },
  {
   "cell_type": "code",
   "execution_count": 53,
   "id": "ccaac626-afa2-48c1-aa8e-51518c2c7776",
   "metadata": {},
   "outputs": [
    {
     "ename": "SyntaxError",
     "evalue": "invalid syntax (141347613.py, line 1)",
     "output_type": "error",
     "traceback": [
      "\u001b[1;36m  Cell \u001b[1;32mIn[53], line 1\u001b[1;36m\u001b[0m\n\u001b[1;33m    ()hi=6\u001b[0m\n\u001b[1;37m      ^\u001b[0m\n\u001b[1;31mSyntaxError\u001b[0m\u001b[1;31m:\u001b[0m invalid syntax\n"
     ]
    }
   ],
   "source": [
    "()hi=6"
   ]
  },
  {
   "cell_type": "code",
   "execution_count": 55,
   "id": "a6392465-8869-4536-8a1c-c55a6487c136",
   "metadata": {},
   "outputs": [
    {
     "ename": "SyntaxError",
     "evalue": "'(' was never closed (2953418195.py, line 1)",
     "output_type": "error",
     "traceback": [
      "\u001b[1;36m  Cell \u001b[1;32mIn[55], line 1\u001b[1;36m\u001b[0m\n\u001b[1;33m    (hi=6\u001b[0m\n\u001b[1;37m    ^\u001b[0m\n\u001b[1;31mSyntaxError\u001b[0m\u001b[1;31m:\u001b[0m '(' was never closed\n"
     ]
    }
   ],
   "source": [
    "(hi=6"
   ]
  },
  {
   "cell_type": "code",
   "execution_count": 57,
   "id": "bf9cddf4-6cae-4096-8ba3-4e8f91648de2",
   "metadata": {},
   "outputs": [
    {
     "ename": "SyntaxError",
     "evalue": "unmatched ')' (2388937500.py, line 1)",
     "output_type": "error",
     "traceback": [
      "\u001b[1;36m  Cell \u001b[1;32mIn[57], line 1\u001b[1;36m\u001b[0m\n\u001b[1;33m    )hi=6\u001b[0m\n\u001b[1;37m    ^\u001b[0m\n\u001b[1;31mSyntaxError\u001b[0m\u001b[1;31m:\u001b[0m unmatched ')'\n"
     ]
    }
   ],
   "source": [
    ")hi=6"
   ]
  },
  {
   "cell_type": "code",
   "execution_count": 59,
   "id": "a339201b-50d2-4fcc-bec7-99d90712a264",
   "metadata": {},
   "outputs": [
    {
     "name": "stderr",
     "output_type": "stream",
     "text": [
      "'hi' is not recognized as an internal or external command,\n",
      "operable program or batch file.\n"
     ]
    }
   ],
   "source": [
    "!hi=6"
   ]
  },
  {
   "cell_type": "code",
   "execution_count": 61,
   "id": "d8530269-4205-4fea-8b4c-a4da7cda7b7c",
   "metadata": {},
   "outputs": [
    {
     "ename": "SyntaxError",
     "evalue": "invalid syntax. Maybe you meant '==' or ':=' instead of '='? (2516720680.py, line 1)",
     "output_type": "error",
     "traceback": [
      "\u001b[1;36m  Cell \u001b[1;32mIn[61], line 1\u001b[1;36m\u001b[0m\n\u001b[1;33m    @hi=6\u001b[0m\n\u001b[1;37m     ^\u001b[0m\n\u001b[1;31mSyntaxError\u001b[0m\u001b[1;31m:\u001b[0m invalid syntax. Maybe you meant '==' or ':=' instead of '='?\n"
     ]
    }
   ],
   "source": [
    "@hi=6"
   ]
  },
  {
   "cell_type": "markdown",
   "id": "3db4cb32-1c96-4f06-8f9e-ed1b00870ccf",
   "metadata": {},
   "source": [
    "#hi=6"
   ]
  },
  {
   "cell_type": "code",
   "execution_count": 64,
   "id": "947499d5-bc6f-4376-a03e-386fe1ccf9a4",
   "metadata": {},
   "outputs": [],
   "source": [
    "#hi=6"
   ]
  },
  {
   "cell_type": "code",
   "execution_count": 66,
   "id": "eacd5803-dd7b-48e0-b868-8daaabbe1fd1",
   "metadata": {},
   "outputs": [
    {
     "ename": "SyntaxError",
     "evalue": "invalid syntax (2777974432.py, line 1)",
     "output_type": "error",
     "traceback": [
      "\u001b[1;36m  Cell \u001b[1;32mIn[66], line 1\u001b[1;36m\u001b[0m\n\u001b[1;33m    $hi=6\u001b[0m\n\u001b[1;37m    ^\u001b[0m\n\u001b[1;31mSyntaxError\u001b[0m\u001b[1;31m:\u001b[0m invalid syntax\n"
     ]
    }
   ],
   "source": [
    "$hi=6"
   ]
  },
  {
   "cell_type": "code",
   "execution_count": 68,
   "id": "8ab89318-e5ab-4203-b4f7-2fab2c1e96a9",
   "metadata": {},
   "outputs": [
    {
     "name": "stderr",
     "output_type": "stream",
     "text": [
      "UsageError: Line magic function `%hi=6` not found.\n"
     ]
    }
   ],
   "source": [
    "%hi=6"
   ]
  },
  {
   "cell_type": "code",
   "execution_count": 70,
   "id": "5640ce57-7013-4898-be58-07c267e5c5a2",
   "metadata": {},
   "outputs": [
    {
     "ename": "SyntaxError",
     "evalue": "invalid syntax (2903788041.py, line 1)",
     "output_type": "error",
     "traceback": [
      "\u001b[1;36m  Cell \u001b[1;32mIn[70], line 1\u001b[1;36m\u001b[0m\n\u001b[1;33m    ^hi=6\u001b[0m\n\u001b[1;37m    ^\u001b[0m\n\u001b[1;31mSyntaxError\u001b[0m\u001b[1;31m:\u001b[0m invalid syntax\n"
     ]
    }
   ],
   "source": [
    "^hi=6"
   ]
  },
  {
   "cell_type": "code",
   "execution_count": 72,
   "id": "19a3173b-5df5-435e-b7e6-aebf98777fd3",
   "metadata": {},
   "outputs": [
    {
     "ename": "SyntaxError",
     "evalue": "invalid syntax (2636409754.py, line 1)",
     "output_type": "error",
     "traceback": [
      "\u001b[1;36m  Cell \u001b[1;32mIn[72], line 1\u001b[1;36m\u001b[0m\n\u001b[1;33m    &hi=6\u001b[0m\n\u001b[1;37m    ^\u001b[0m\n\u001b[1;31mSyntaxError\u001b[0m\u001b[1;31m:\u001b[0m invalid syntax\n"
     ]
    }
   ],
   "source": [
    "&hi=6"
   ]
  },
  {
   "cell_type": "code",
   "execution_count": 74,
   "id": "57205cbe-ec8b-4fa2-a397-6325577ccfce",
   "metadata": {},
   "outputs": [
    {
     "ename": "SyntaxError",
     "evalue": "starred assignment target must be in a list or tuple (3008754780.py, line 1)",
     "output_type": "error",
     "traceback": [
      "\u001b[1;36m  Cell \u001b[1;32mIn[74], line 1\u001b[1;36m\u001b[0m\n\u001b[1;33m    *hi=6\u001b[0m\n\u001b[1;37m    ^\u001b[0m\n\u001b[1;31mSyntaxError\u001b[0m\u001b[1;31m:\u001b[0m starred assignment target must be in a list or tuple\n"
     ]
    }
   ],
   "source": [
    "*hi=6"
   ]
  },
  {
   "cell_type": "code",
   "execution_count": 76,
   "id": "9e32c8bb-6c89-44d5-b0d8-0187d7b19c12",
   "metadata": {},
   "outputs": [
    {
     "ename": "SyntaxError",
     "evalue": "cannot assign to expression here. Maybe you meant '==' instead of '='? (2992809928.py, line 1)",
     "output_type": "error",
     "traceback": [
      "\u001b[1;36m  Cell \u001b[1;32mIn[76], line 1\u001b[1;36m\u001b[0m\n\u001b[1;33m    ~hi=6\u001b[0m\n\u001b[1;37m    ^\u001b[0m\n\u001b[1;31mSyntaxError\u001b[0m\u001b[1;31m:\u001b[0m cannot assign to expression here. Maybe you meant '==' instead of '='?\n"
     ]
    }
   ],
   "source": [
    "~hi=6"
   ]
  },
  {
   "cell_type": "code",
   "execution_count": 78,
   "id": "b6283ae7-5d39-4b51-a0e5-477b367cfb34",
   "metadata": {},
   "outputs": [
    {
     "ename": "SyntaxError",
     "evalue": "cannot assign to expression here. Maybe you meant '==' instead of '='? (3543753743.py, line 1)",
     "output_type": "error",
     "traceback": [
      "\u001b[1;36m  Cell \u001b[1;32mIn[78], line 1\u001b[1;36m\u001b[0m\n\u001b[1;33m    -hi=6\u001b[0m\n\u001b[1;37m    ^\u001b[0m\n\u001b[1;31mSyntaxError\u001b[0m\u001b[1;31m:\u001b[0m cannot assign to expression here. Maybe you meant '==' instead of '='?\n"
     ]
    }
   ],
   "source": [
    "-hi=6"
   ]
  },
  {
   "cell_type": "code",
   "execution_count": 80,
   "id": "44cb1ae7-77c2-43fc-b864-406341512d97",
   "metadata": {},
   "outputs": [
    {
     "ename": "SyntaxError",
     "evalue": "cannot assign to expression here. Maybe you meant '==' instead of '='? (3100408761.py, line 1)",
     "output_type": "error",
     "traceback": [
      "\u001b[1;36m  Cell \u001b[1;32mIn[80], line 1\u001b[1;36m\u001b[0m\n\u001b[1;33m    +hi=6\u001b[0m\n\u001b[1;37m    ^\u001b[0m\n\u001b[1;31mSyntaxError\u001b[0m\u001b[1;31m:\u001b[0m cannot assign to expression here. Maybe you meant '==' instead of '='?\n"
     ]
    }
   ],
   "source": [
    "+hi=6"
   ]
  },
  {
   "cell_type": "code",
   "execution_count": 82,
   "id": "11c1dac8-f2f1-4f90-aef2-e3f5c58530cb",
   "metadata": {},
   "outputs": [],
   "source": [
    "_hi=6"
   ]
  },
  {
   "cell_type": "code",
   "execution_count": null,
   "id": "3648b0c4-1e60-4ec0-8ee2-6231bd791d37",
   "metadata": {},
   "outputs": [],
   "source": []
  },
  {
   "cell_type": "code",
   "execution_count": null,
   "id": "6f16c321-2e48-4900-a3c0-2695e2230ebe",
   "metadata": {},
   "outputs": [],
   "source": []
  },
  {
   "cell_type": "markdown",
   "id": "1aaa6dd7-f0b4-492d-bc6f-0b46a5cce064",
   "metadata": {},
   "source": [
    "VARIABLE NAMES EXAMPES"
   ]
  },
  {
   "cell_type": "code",
   "execution_count": 4,
   "id": "0a485e72-d09b-4de9-ab47-f257c12d9f78",
   "metadata": {},
   "outputs": [
    {
     "ename": "SyntaxError",
     "evalue": "invalid decimal literal (2925354885.py, line 1)",
     "output_type": "error",
     "traceback": [
      "\u001b[1;36m  Cell \u001b[1;32mIn[4], line 1\u001b[1;36m\u001b[0m\n\u001b[1;33m    1hello=2\u001b[0m\n\u001b[1;37m    ^\u001b[0m\n\u001b[1;31mSyntaxError\u001b[0m\u001b[1;31m:\u001b[0m invalid decimal literal\n"
     ]
    }
   ],
   "source": [
    "1hello=2"
   ]
  },
  {
   "cell_type": "code",
   "execution_count": 7,
   "id": "02a596c0-e0b9-49ed-9c2a-f68b1ed6eb32",
   "metadata": {},
   "outputs": [
    {
     "name": "stdout",
     "output_type": "stream",
     "text": [
      "1\n"
     ]
    }
   ],
   "source": [
    "Giga=1024\n",
    "Mega=1\n",
    "print(Mega)"
   ]
  },
  {
   "cell_type": "code",
   "execution_count": 8,
   "id": "954d0030-a946-4190-bac7-e7c93d77c09a",
   "metadata": {},
   "outputs": [
    {
     "ename": "NameError",
     "evalue": "name 'giga' is not defined",
     "output_type": "error",
     "traceback": [
      "\u001b[1;31m---------------------------------------------------------------------------\u001b[0m",
      "\u001b[1;31mNameError\u001b[0m                                 Traceback (most recent call last)",
      "Cell \u001b[1;32mIn[8], line 1\u001b[0m\n\u001b[1;32m----> 1\u001b[0m \u001b[38;5;28mprint\u001b[39m(giga)\n",
      "\u001b[1;31mNameError\u001b[0m: name 'giga' is not defined"
     ]
    }
   ],
   "source": [
    "print(giga)"
   ]
  },
  {
   "cell_type": "code",
   "execution_count": 9,
   "id": "2592f4b2-52b5-4c36-b4c6-5d04d97f777d",
   "metadata": {},
   "outputs": [
    {
     "name": "stdout",
     "output_type": "stream",
     "text": [
      "1024\n"
     ]
    }
   ],
   "source": [
    "print(Giga)"
   ]
  },
  {
   "cell_type": "code",
   "execution_count": 5,
   "id": "62a44768-ca52-4bca-806b-d5b700ff9ab3",
   "metadata": {},
   "outputs": [
    {
     "ename": "NameError",
     "evalue": "name 'Giga' is not defined",
     "output_type": "error",
     "traceback": [
      "\u001b[1;31m---------------------------------------------------------------------------\u001b[0m",
      "\u001b[1;31mNameError\u001b[0m                                 Traceback (most recent call last)",
      "Cell \u001b[1;32mIn[5], line 1\u001b[0m\n\u001b[1;32m----> 1\u001b[0m Giga\u001b[38;5;241m*\u001b[39mMega\n",
      "\u001b[1;31mNameError\u001b[0m: name 'Giga' is not defined"
     ]
    }
   ],
   "source": [
    "Giga*Mega"
   ]
  },
  {
   "cell_type": "code",
   "execution_count": 14,
   "id": "a3740660-5e01-41ee-9049-2c40fab221b9",
   "metadata": {},
   "outputs": [
    {
     "data": {
      "text/plain": [
       "1023"
      ]
     },
     "execution_count": 14,
     "metadata": {},
     "output_type": "execute_result"
    }
   ],
   "source": [
    "Giga-Mega"
   ]
  },
  {
   "cell_type": "code",
   "execution_count": 16,
   "id": "93ddf953-b793-4fc4-8282-9ed6b3536699",
   "metadata": {},
   "outputs": [
    {
     "data": {
      "text/plain": [
       "-1023"
      ]
     },
     "execution_count": 16,
     "metadata": {},
     "output_type": "execute_result"
    }
   ],
   "source": [
    "Mega-Giga"
   ]
  },
  {
   "cell_type": "code",
   "execution_count": 18,
   "id": "e5c4b776-2538-4e50-a0e8-bbf7873c5055",
   "metadata": {},
   "outputs": [
    {
     "data": {
      "text/plain": [
       "0.0010000000000000002"
      ]
     },
     "execution_count": 18,
     "metadata": {},
     "output_type": "execute_result"
    }
   ],
   "source": [
    ".1*.1*.1"
   ]
  },
  {
   "cell_type": "code",
   "execution_count": 20,
   "id": "39a81a09-0247-4003-8d89-051c64115e23",
   "metadata": {},
   "outputs": [
    {
     "data": {
      "text/plain": [
       "0.03"
      ]
     },
     "execution_count": 20,
     "metadata": {},
     "output_type": "execute_result"
    }
   ],
   "source": [
    "0.3*0.1"
   ]
  },
  {
   "cell_type": "code",
   "execution_count": 22,
   "id": "ba0eb0f4-1b98-4d56-a955-f19dfaf13e05",
   "metadata": {},
   "outputs": [
    {
     "data": {
      "text/plain": [
       "0.010000000000000002"
      ]
     },
     "execution_count": 22,
     "metadata": {},
     "output_type": "execute_result"
    }
   ],
   "source": [
    "0.1*0.1"
   ]
  },
  {
   "cell_type": "code",
   "execution_count": 2,
   "id": "82dc7e5a-40c4-4ed1-846e-aa42973c0b6f",
   "metadata": {},
   "outputs": [
    {
     "ename": "SyntaxError",
     "evalue": "invalid syntax (607858404.py, line 1)",
     "output_type": "error",
     "traceback": [
      "\u001b[1;36m  Cell \u001b[1;32mIn[2], line 1\u001b[1;36m\u001b[0m\n\u001b[1;33m    `meera=6\u001b[0m\n\u001b[1;37m    ^\u001b[0m\n\u001b[1;31mSyntaxError\u001b[0m\u001b[1;31m:\u001b[0m invalid syntax\n"
     ]
    }
   ],
   "source": [
    "`meera=6"
   ]
  },
  {
   "cell_type": "code",
   "execution_count": null,
   "id": "aa17e475-964c-4e67-b387-e2097d3110fa",
   "metadata": {},
   "outputs": [],
   "source": []
  }
 ],
 "metadata": {
  "kernelspec": {
   "display_name": "Python [conda env:base] *",
   "language": "python",
   "name": "conda-base-py"
  },
  "language_info": {
   "codemirror_mode": {
    "name": "ipython",
    "version": 3
   },
   "file_extension": ".py",
   "mimetype": "text/x-python",
   "name": "python",
   "nbconvert_exporter": "python",
   "pygments_lexer": "ipython3",
   "version": "3.12.7"
  }
 },
 "nbformat": 4,
 "nbformat_minor": 5
}
